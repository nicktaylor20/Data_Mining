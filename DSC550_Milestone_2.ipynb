{
 "cells": [
  {
   "cell_type": "code",
   "execution_count": 1,
   "metadata": {},
   "outputs": [],
   "source": [
    "import pandas as pd\n",
    "import numpy as np\n",
    "import matplotlib.pyplot as plt\n",
    "%matplotlib inline"
   ]
  },
  {
   "cell_type": "code",
   "execution_count": 2,
   "metadata": {},
   "outputs": [],
   "source": [
    "#Load the data file into a DataFrame.\n",
    "df= pd.read_csv(r'C:\\Users\\nickm\\Documents\\senators.csv')"
   ]
  },
  {
   "cell_type": "code",
   "execution_count": 3,
   "metadata": {},
   "outputs": [
    {
     "data": {
      "text/html": [
       "<div>\n",
       "<style scoped>\n",
       "    .dataframe tbody tr th:only-of-type {\n",
       "        vertical-align: middle;\n",
       "    }\n",
       "\n",
       "    .dataframe tbody tr th {\n",
       "        vertical-align: top;\n",
       "    }\n",
       "\n",
       "    .dataframe thead th {\n",
       "        text-align: right;\n",
       "    }\n",
       "</style>\n",
       "<table border=\"1\" class=\"dataframe\">\n",
       "  <thead>\n",
       "    <tr style=\"text-align: right;\">\n",
       "      <th></th>\n",
       "      <th>created_at</th>\n",
       "      <th>text</th>\n",
       "      <th>url</th>\n",
       "      <th>replies</th>\n",
       "      <th>retweets</th>\n",
       "      <th>favorites</th>\n",
       "      <th>user</th>\n",
       "      <th>bioguide_id</th>\n",
       "      <th>party</th>\n",
       "      <th>state</th>\n",
       "    </tr>\n",
       "  </thead>\n",
       "  <tbody>\n",
       "    <tr>\n",
       "      <th>0</th>\n",
       "      <td>10/19/2017 21:47</td>\n",
       "      <td>We released bipartisan healthcare bill today a...</td>\n",
       "      <td>https://twitter.com/amyklobuchar/status/921130...</td>\n",
       "      <td>21</td>\n",
       "      <td>129</td>\n",
       "      <td>533</td>\n",
       "      <td>amyklobuchar</td>\n",
       "      <td>K000367</td>\n",
       "      <td>D</td>\n",
       "      <td>MN</td>\n",
       "    </tr>\n",
       "    <tr>\n",
       "      <th>1</th>\n",
       "      <td>10/19/2017 18:48</td>\n",
       "      <td>I spoke with MorningJoe team abt HonestAds bil...</td>\n",
       "      <td>https://twitter.com/amyklobuchar/status/921085...</td>\n",
       "      <td>8</td>\n",
       "      <td>46</td>\n",
       "      <td>150</td>\n",
       "      <td>amyklobuchar</td>\n",
       "      <td>K000367</td>\n",
       "      <td>D</td>\n",
       "      <td>MN</td>\n",
       "    </tr>\n",
       "    <tr>\n",
       "      <th>2</th>\n",
       "      <td>10/19/2017 18:14</td>\n",
       "      <td>Lots of interest in my bill with Senators Warn...</td>\n",
       "      <td>https://twitter.com/amyklobuchar/status/921077...</td>\n",
       "      <td>36</td>\n",
       "      <td>227</td>\n",
       "      <td>932</td>\n",
       "      <td>amyklobuchar</td>\n",
       "      <td>K000367</td>\n",
       "      <td>D</td>\n",
       "      <td>MN</td>\n",
       "    </tr>\n",
       "    <tr>\n",
       "      <th>3</th>\n",
       "      <td>10/19/2017 18:04</td>\n",
       "      <td>Todays the day MarkWarner SenJohnMcCain amp I ...</td>\n",
       "      <td>https://twitter.com/amyklobuchar/status/921074...</td>\n",
       "      <td>17</td>\n",
       "      <td>167</td>\n",
       "      <td>550</td>\n",
       "      <td>amyklobuchar</td>\n",
       "      <td>K000367</td>\n",
       "      <td>D</td>\n",
       "      <td>MN</td>\n",
       "    </tr>\n",
       "    <tr>\n",
       "      <th>4</th>\n",
       "      <td>10/19/2017 16:33</td>\n",
       "      <td>MarkWarner SenJohnMcCain amp I put together Ho...</td>\n",
       "      <td>https://twitter.com/amyklobuchar/status/921051...</td>\n",
       "      <td>31</td>\n",
       "      <td>279</td>\n",
       "      <td>893</td>\n",
       "      <td>amyklobuchar</td>\n",
       "      <td>K000367</td>\n",
       "      <td>D</td>\n",
       "      <td>MN</td>\n",
       "    </tr>\n",
       "    <tr>\n",
       "      <th>5</th>\n",
       "      <td>10/19/2017 15:14</td>\n",
       "      <td>Great chat w chrislhayes about Sessions hearin...</td>\n",
       "      <td>https://twitter.com/amyklobuchar/status/921031...</td>\n",
       "      <td>9</td>\n",
       "      <td>37</td>\n",
       "      <td>221</td>\n",
       "      <td>amyklobuchar</td>\n",
       "      <td>K000367</td>\n",
       "      <td>D</td>\n",
       "      <td>MN</td>\n",
       "    </tr>\n",
       "    <tr>\n",
       "      <th>6</th>\n",
       "      <td>10/18/2017 23:23</td>\n",
       "      <td>Happy to announce SenJohnMcCain has joined our...</td>\n",
       "      <td>https://twitter.com/amyklobuchar/status/920792...</td>\n",
       "      <td>72</td>\n",
       "      <td>834</td>\n",
       "      <td>3800</td>\n",
       "      <td>amyklobuchar</td>\n",
       "      <td>K000367</td>\n",
       "      <td>D</td>\n",
       "      <td>MN</td>\n",
       "    </tr>\n",
       "    <tr>\n",
       "      <th>7</th>\n",
       "      <td>10/18/2017 21:44</td>\n",
       "      <td>Fed judges in MD amp HI halted the Admins late...</td>\n",
       "      <td>https://twitter.com/amyklobuchar/status/920767...</td>\n",
       "      <td>15</td>\n",
       "      <td>88</td>\n",
       "      <td>361</td>\n",
       "      <td>amyklobuchar</td>\n",
       "      <td>K000367</td>\n",
       "      <td>D</td>\n",
       "      <td>MN</td>\n",
       "    </tr>\n",
       "    <tr>\n",
       "      <th>8</th>\n",
       "      <td>10/18/2017 17:38</td>\n",
       "      <td>It was good to hear that AG Sessions is willin...</td>\n",
       "      <td>https://twitter.com/amyklobuchar/status/920705...</td>\n",
       "      <td>31</td>\n",
       "      <td>46</td>\n",
       "      <td>224</td>\n",
       "      <td>amyklobuchar</td>\n",
       "      <td>K000367</td>\n",
       "      <td>D</td>\n",
       "      <td>MN</td>\n",
       "    </tr>\n",
       "    <tr>\n",
       "      <th>9</th>\n",
       "      <td>10/18/2017 17:08</td>\n",
       "      <td>President called investigation into Russias me...</td>\n",
       "      <td>https://twitter.com/amyklobuchar/status/920698...</td>\n",
       "      <td>77</td>\n",
       "      <td>160</td>\n",
       "      <td>864</td>\n",
       "      <td>amyklobuchar</td>\n",
       "      <td>K000367</td>\n",
       "      <td>D</td>\n",
       "      <td>MN</td>\n",
       "    </tr>\n",
       "  </tbody>\n",
       "</table>\n",
       "</div>"
      ],
      "text/plain": [
       "         created_at                                               text  \\\n",
       "0  10/19/2017 21:47  We released bipartisan healthcare bill today a...   \n",
       "1  10/19/2017 18:48  I spoke with MorningJoe team abt HonestAds bil...   \n",
       "2  10/19/2017 18:14  Lots of interest in my bill with Senators Warn...   \n",
       "3  10/19/2017 18:04  Todays the day MarkWarner SenJohnMcCain amp I ...   \n",
       "4  10/19/2017 16:33  MarkWarner SenJohnMcCain amp I put together Ho...   \n",
       "5  10/19/2017 15:14  Great chat w chrislhayes about Sessions hearin...   \n",
       "6  10/18/2017 23:23  Happy to announce SenJohnMcCain has joined our...   \n",
       "7  10/18/2017 21:44  Fed judges in MD amp HI halted the Admins late...   \n",
       "8  10/18/2017 17:38  It was good to hear that AG Sessions is willin...   \n",
       "9  10/18/2017 17:08  President called investigation into Russias me...   \n",
       "\n",
       "                                                 url  replies  retweets  \\\n",
       "0  https://twitter.com/amyklobuchar/status/921130...       21       129   \n",
       "1  https://twitter.com/amyklobuchar/status/921085...        8        46   \n",
       "2  https://twitter.com/amyklobuchar/status/921077...       36       227   \n",
       "3  https://twitter.com/amyklobuchar/status/921074...       17       167   \n",
       "4  https://twitter.com/amyklobuchar/status/921051...       31       279   \n",
       "5  https://twitter.com/amyklobuchar/status/921031...        9        37   \n",
       "6  https://twitter.com/amyklobuchar/status/920792...       72       834   \n",
       "7  https://twitter.com/amyklobuchar/status/920767...       15        88   \n",
       "8  https://twitter.com/amyklobuchar/status/920705...       31        46   \n",
       "9  https://twitter.com/amyklobuchar/status/920698...       77       160   \n",
       "\n",
       "   favorites          user bioguide_id party state  \n",
       "0        533  amyklobuchar     K000367     D    MN  \n",
       "1        150  amyklobuchar     K000367     D    MN  \n",
       "2        932  amyklobuchar     K000367     D    MN  \n",
       "3        550  amyklobuchar     K000367     D    MN  \n",
       "4        893  amyklobuchar     K000367     D    MN  \n",
       "5        221  amyklobuchar     K000367     D    MN  \n",
       "6       3800  amyklobuchar     K000367     D    MN  \n",
       "7        361  amyklobuchar     K000367     D    MN  \n",
       "8        224  amyklobuchar     K000367     D    MN  \n",
       "9        864  amyklobuchar     K000367     D    MN  "
      ]
     },
     "execution_count": 3,
     "metadata": {},
     "output_type": "execute_result"
    }
   ],
   "source": [
    "df.head(10)"
   ]
  },
  {
   "cell_type": "markdown",
   "metadata": {},
   "source": [
    "# Feature Dropping "
   ]
  },
  {
   "cell_type": "markdown",
   "metadata": {},
   "source": [
    "For this project I will be dropping a few features from the original dataset. \n",
    "These features are either irrelevant to the model I am attempting to build out or will create noise and possibly skew the model results. "
   ]
  },
  {
   "cell_type": "markdown",
   "metadata": {},
   "source": [
    "The features I removed were created_at, url, user, bioguide_id. The created_at time stamp is removed because I will not be doing a timeseries analysis and data/time has no impact on predicting the target variable. The url and bioguide_id are other irrelevant or non-impactful features and were removed. User is a feature that I was not sure if I should remove or not. I figured this would give an unfair boost to the model's predictive capability. I want the model to predict the target based only on the twitter text. "
   ]
  },
  {
   "cell_type": "code",
   "execution_count": 5,
   "metadata": {},
   "outputs": [],
   "source": [
    "twitter_df = df[['text', 'replies', 'retweets', 'favorites', 'party', 'state']]"
   ]
  },
  {
   "cell_type": "code",
   "execution_count": 6,
   "metadata": {},
   "outputs": [
    {
     "data": {
      "text/html": [
       "<div>\n",
       "<style scoped>\n",
       "    .dataframe tbody tr th:only-of-type {\n",
       "        vertical-align: middle;\n",
       "    }\n",
       "\n",
       "    .dataframe tbody tr th {\n",
       "        vertical-align: top;\n",
       "    }\n",
       "\n",
       "    .dataframe thead th {\n",
       "        text-align: right;\n",
       "    }\n",
       "</style>\n",
       "<table border=\"1\" class=\"dataframe\">\n",
       "  <thead>\n",
       "    <tr style=\"text-align: right;\">\n",
       "      <th></th>\n",
       "      <th>text</th>\n",
       "      <th>replies</th>\n",
       "      <th>retweets</th>\n",
       "      <th>favorites</th>\n",
       "      <th>party</th>\n",
       "      <th>state</th>\n",
       "    </tr>\n",
       "  </thead>\n",
       "  <tbody>\n",
       "    <tr>\n",
       "      <th>0</th>\n",
       "      <td>We released bipartisan healthcare bill today a...</td>\n",
       "      <td>21</td>\n",
       "      <td>129</td>\n",
       "      <td>533</td>\n",
       "      <td>D</td>\n",
       "      <td>MN</td>\n",
       "    </tr>\n",
       "    <tr>\n",
       "      <th>1</th>\n",
       "      <td>I spoke with MorningJoe team abt HonestAds bil...</td>\n",
       "      <td>8</td>\n",
       "      <td>46</td>\n",
       "      <td>150</td>\n",
       "      <td>D</td>\n",
       "      <td>MN</td>\n",
       "    </tr>\n",
       "    <tr>\n",
       "      <th>2</th>\n",
       "      <td>Lots of interest in my bill with Senators Warn...</td>\n",
       "      <td>36</td>\n",
       "      <td>227</td>\n",
       "      <td>932</td>\n",
       "      <td>D</td>\n",
       "      <td>MN</td>\n",
       "    </tr>\n",
       "    <tr>\n",
       "      <th>3</th>\n",
       "      <td>Todays the day MarkWarner SenJohnMcCain amp I ...</td>\n",
       "      <td>17</td>\n",
       "      <td>167</td>\n",
       "      <td>550</td>\n",
       "      <td>D</td>\n",
       "      <td>MN</td>\n",
       "    </tr>\n",
       "    <tr>\n",
       "      <th>4</th>\n",
       "      <td>MarkWarner SenJohnMcCain amp I put together Ho...</td>\n",
       "      <td>31</td>\n",
       "      <td>279</td>\n",
       "      <td>893</td>\n",
       "      <td>D</td>\n",
       "      <td>MN</td>\n",
       "    </tr>\n",
       "  </tbody>\n",
       "</table>\n",
       "</div>"
      ],
      "text/plain": [
       "                                                text  replies  retweets  \\\n",
       "0  We released bipartisan healthcare bill today a...       21       129   \n",
       "1  I spoke with MorningJoe team abt HonestAds bil...        8        46   \n",
       "2  Lots of interest in my bill with Senators Warn...       36       227   \n",
       "3  Todays the day MarkWarner SenJohnMcCain amp I ...       17       167   \n",
       "4  MarkWarner SenJohnMcCain amp I put together Ho...       31       279   \n",
       "\n",
       "   favorites party state  \n",
       "0        533     D    MN  \n",
       "1        150     D    MN  \n",
       "2        932     D    MN  \n",
       "3        550     D    MN  \n",
       "4        893     D    MN  "
      ]
     },
     "execution_count": 6,
     "metadata": {},
     "output_type": "execute_result"
    }
   ],
   "source": [
    "twitter_df.head()"
   ]
  },
  {
   "cell_type": "markdown",
   "metadata": {},
   "source": [
    "One aspect of the target variable (party) that I decided to remove is the rows associated to the Independent party (I). This party type makes up such a small amount of the data that I believe it could create noise and hinder model performance. I may end up adding them back to compare results but I would like to make the first pass without the Independent party data. "
   ]
  },
  {
   "cell_type": "code",
   "execution_count": 10,
   "metadata": {},
   "outputs": [
    {
     "data": {
      "image/png": "[encoded data removed]",
      "text/plain": [
       "<Figure size 432x288 with 1 Axes>"
      ]
     },
     "metadata": {
      "needs_background": "light"
     },
     "output_type": "display_data"
    }
   ],
   "source": [
    "X_Party = twitter_df.groupby('party').size().reset_index(name='Counts')['party']\n",
    "Y_Party = twitter_df.groupby('party').size().reset_index(name='Counts')['Counts']\n",
    "\n",
    "plt.bar(X_Party, Y_Party)\n",
    "plt.title('Party Value Counts', fontsize=25)\n",
    "plt.ylabel('Counts', fontsize=20)\n",
    "plt.tick_params(axis='both', labelsize=15)\n",
    "plt.show()"
   ]
  },
  {
   "cell_type": "code",
   "execution_count": 17,
   "metadata": {},
   "outputs": [
    {
     "data": {
      "text/plain": [
       "0         True\n",
       "1         True\n",
       "2         True\n",
       "3         True\n",
       "4         True\n",
       "          ... \n",
       "288610    True\n",
       "288611    True\n",
       "288612    True\n",
       "288613    True\n",
       "288614    True\n",
       "Name: party, Length: 288615, dtype: bool"
      ]
     },
     "execution_count": 17,
     "metadata": {},
     "output_type": "execute_result"
    }
   ],
   "source": [
    "(twitter_df['party'] !=  'I')"
   ]
  },
  {
   "cell_type": "code",
   "execution_count": 18,
   "metadata": {},
   "outputs": [
    {
     "data": {
      "text/plain": [
       "(288615, 6)"
      ]
     },
     "execution_count": 18,
     "metadata": {},
     "output_type": "execute_result"
    }
   ],
   "source": [
    "twitter_df.shape"
   ]
  },
  {
   "cell_type": "code",
   "execution_count": 32,
   "metadata": {},
   "outputs": [],
   "source": [
    "twitter_df2 = twitter_df[(twitter_df['party'] !=  'I')]"
   ]
  },
  {
   "cell_type": "code",
   "execution_count": 34,
   "metadata": {},
   "outputs": [
    {
     "data": {
      "text/plain": [
       "(282360, 6)"
      ]
     },
     "execution_count": 34,
     "metadata": {},
     "output_type": "execute_result"
    }
   ],
   "source": [
    "twitter_df2.shape"
   ]
  },
  {
   "cell_type": "code",
   "execution_count": 35,
   "metadata": {},
   "outputs": [
    {
     "data": {
      "image/png": "[encoded data removed]",
      "text/plain": [
       "<Figure size 432x288 with 1 Axes>"
      ]
     },
     "metadata": {
      "needs_background": "light"
     },
     "output_type": "display_data"
    }
   ],
   "source": [
    "X_Party = twitter_df2.groupby('party').size().reset_index(name='Counts')['party']\n",
    "Y_Party = twitter_df2.groupby('party').size().reset_index(name='Counts')['Counts']\n",
    "\n",
    "plt.bar(X_Party, Y_Party)\n",
    "plt.title('Party Value Counts', fontsize=25)\n",
    "plt.ylabel('Counts', fontsize=20)\n",
    "plt.tick_params(axis='both', labelsize=15)\n",
    "plt.show()"
   ]
  },
  {
   "cell_type": "code",
   "execution_count": null,
   "metadata": {},
   "outputs": [],
   "source": []
  }
 ],
 "metadata": {
  "kernelspec": {
   "display_name": "Python 3",
   "language": "python",
   "name": "python3"
  },
  "language_info": {
   "codemirror_mode": {
    "name": "ipython",
    "version": 3
   },
   "file_extension": ".py",
   "mimetype": "text/x-python",
   "name": "python",
   "nbconvert_exporter": "python",
   "pygments_lexer": "ipython3",
   "version": "3.8.5"
  }
 },
 "nbformat": 4,
 "nbformat_minor": 4
}
